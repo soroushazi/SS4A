{
 "cells": [
  {
   "cell_type": "code",
   "execution_count": 1,
   "metadata": {},
   "outputs": [],
   "source": [
    "import pandas as pd\n",
    "import numpy as np\n",
    "\n",
    "import geopandas as gpd"
   ]
  },
  {
   "cell_type": "code",
   "execution_count": 2,
   "metadata": {},
   "outputs": [],
   "source": [
    "county_list = {\n",
    "        \"1\": \"Adair\",\n",
    "        \"2\": \"Alfalfa\",\n",
    "        \"3\": \"Atoka\",\n",
    "        \"4\": \"Beaver\",\n",
    "        \"5\": \"Beckham\",\n",
    "        \"6\": \"Blaine\",\n",
    "        \"7\": \"Bryan\",\n",
    "        \"8\": \"Caddo\",\n",
    "        \"9\": \"Canadian\",\n",
    "        \"10\": \"Carter\",\n",
    "        \"11\": \"Cherokee\",\n",
    "        \"12\": \"Choctaw\",\n",
    "        \"13\": \"Cimarron\",\n",
    "        \"14\": \"Cleveland\",\n",
    "        \"15\": \"Coal\",\n",
    "        \"16\": \"Comanche\",\n",
    "        \"17\": \"Cotton\",\n",
    "        \"18\": \"Craig\",\n",
    "        \"19\": \"Creek\",\n",
    "        \"20\": \"Custer\",\n",
    "        \"21\": \"Delaware\",\n",
    "        \"22\": \"Dewey\",\n",
    "        \"23\": \"Ellis\",\n",
    "        \"24\": \"Garfield\",\n",
    "        \"25\": \"Garvin\",\n",
    "        \"26\": \"Grady\",\n",
    "        \"27\": \"Grant\",\n",
    "        \"28\": \"Greer\",\n",
    "        \"29\": \"Harmon\",\n",
    "        \"30\": \"Harper\",\n",
    "        \"31\": \"Haskell\",\n",
    "        \"32\": \"Hughes\",\n",
    "        \"33\": \"Jackson\",\n",
    "        \"34\": \"Jefferson\",\n",
    "        \"35\": \"Johnston\",\n",
    "        \"36\": \"Kay\",  \n",
    "        \"37\": \"Kingfisher\",\n",
    "        \"38\": \"Kiowa\",\n",
    "        \"39\": \"Latimer\",\n",
    "        \"40\": \"LeFlore\",\n",
    "        \"41\": \"Lincoln\",\n",
    "        \"42\": \"Logan\",\n",
    "        \"43\": \"Love\",\n",
    "        \"44\": \"McClain\",\n",
    "        \"45\": \"McCurtain\",\n",
    "        \"46\": \"McIntosh\",\n",
    "        \"47\": \"Major\",\n",
    "        \"48\": \"Marshall\",\n",
    "        \"49\": \"Mayes\",\n",
    "        \"50\": \"Murray\",\n",
    "        \"51\": \"Muskogee\",\n",
    "        \"52\": \"Noble\",\n",
    "        \"53\": \"Nowata\",\n",
    "        \"54\": \"Okfuskee\",\n",
    "        \"55\": \"Oklahoma\",\n",
    "        \"56\": \"Okmulgee\",\n",
    "        \"57\": \"Osage\",\n",
    "        \"58\": \"Ottawa\",\n",
    "        \"59\": \"Pawnee\",\n",
    "        \"60\": \"Payne\",\n",
    "        \"61\": \"Pittsburg\",\n",
    "        \"62\": \"Pontotoc\",\n",
    "        \"63\": \"Pottawatomie\",\n",
    "        \"64\": \"Pushmataha\",\n",
    "        \"65\": \"Roger Mills\",\n",
    "        \"66\": \"Rogers\",\n",
    "        \"67\": \"Seminole\",\n",
    "        \"68\": \"Sequoyah\",\n",
    "        \"69\": \"Stephens\",\n",
    "        \"70\": \"Texas\",\n",
    "        \"71\": \"Tillman\",\n",
    "        \"72\": \"Tulsa\",\n",
    "        \"73\": \"Wagoner\",\n",
    "        \"74\": \"Washington\",\n",
    "        \"75\": \"Washita\",\n",
    "        \"76\": \"Woods\",\n",
    "        \"77\": \"Woodward\"\n",
    "    }"
   ]
  },
  {
   "cell_type": "code",
   "execution_count": 3,
   "metadata": {},
   "outputs": [],
   "source": [
    "roads = gpd.read_file('roadway_dataset/final_datasets/final_roadway_network.shp')\n",
    "intersections = gpd.read_file('intersection_dataset/final_datasets/intersections_without_duplicate.shp')\n",
    "intersections = intersections.rename(columns={'FID': 'intersection_id'})\n",
    "intersections['intersection_id'] = intersections['intersection_id'].apply(lambda x: int(x))"
   ]
  },
  {
   "cell_type": "code",
   "execution_count": 4,
   "metadata": {},
   "outputs": [],
   "source": [
    "roads_cols = [\n",
    "    'roadway_index',\n",
    "    'mileage', 'aadt',\n",
    "    'fatal_crashes',\n",
    "    'incapacitating_injury_crashes', 'non_incapacitating_injury_crashes',\n",
    "    'possible_injury_crashes', 'property_damage_crashes',\n",
    "    'epdo'\n",
    "    ]\n",
    "\n",
    "roads_from_roads_cols = [\n",
    "    'route_id', 'segment_id', 'county'\n",
    "]"
   ]
  },
  {
   "cell_type": "code",
   "execution_count": 5,
   "metadata": {},
   "outputs": [],
   "source": [
    "intersections_cols = [\n",
    "    'intersection_id',\n",
    "    'fatal_crashes',\n",
    "    'incapacitating_injury_crashes', 'non_incapacitating_injury_crashes',\n",
    "    'possible_injury_crashes', 'property_damage_crashes', 'epdo'\n",
    "    ]\n",
    "\n",
    "int_from_int_cols = [\n",
    "    'intersection_id', 'geometry'\n",
    "]"
   ]
  },
  {
   "cell_type": "code",
   "execution_count": 7,
   "metadata": {},
   "outputs": [],
   "source": [
    "crashes = pd.read_csv('crash_dataset/final_datasets/final_crash_dataset.csv', low_memory=False)"
   ]
  },
  {
   "cell_type": "markdown",
   "metadata": {},
   "source": [
    "crash rates"
   ]
  },
  {
   "cell_type": "markdown",
   "metadata": {},
   "source": [
    "roads "
   ]
  },
  {
   "cell_type": "code",
   "execution_count": 64,
   "metadata": {},
   "outputs": [],
   "source": [
    "crash_rate_rds = pd.read_csv('analysis/roadway_analysis/outputs/crash_rate/all_reasons/all_severity_levels/csv/roadways_total_edpo.csv')\n",
    "crash_rate_rds = crash_rate_rds[(crash_rate_rds['epdo_group'] == 'High') & (crash_rate_rds['mileage'] >= 0.3)].head(20)"
   ]
  },
  {
   "cell_type": "code",
   "execution_count": 65,
   "metadata": {},
   "outputs": [],
   "source": [
    "crash_rate_rds = crash_rate_rds[roads_cols]\n",
    "\n",
    "crash_rate_rds_ids = crash_rate_rds['roadway_index'].unique().tolist()\n",
    "crash_rate_from_roads = roads[roads.index.isin(crash_rate_rds_ids)][roads_from_roads_cols]\n",
    "crash_rate_from_roads['county'] = crash_rate_from_roads['county'].apply(lambda x: county_list[str(x)])\n",
    "\n",
    "rds_crash_rate_highs = pd.merge(crash_rate_rds, crash_rate_from_roads,\n",
    "                            left_on='roadway_index',\n",
    "                            right_index=True,\n",
    "                            how='inner')"
   ]
  },
  {
   "cell_type": "code",
   "execution_count": 67,
   "metadata": {},
   "outputs": [],
   "source": [
    "rds_final_cols = [\n",
    "    'route_id', 'segment_id', 'county', 'mileage', 'aadt',\n",
    "    'fatal_crashes',\n",
    "    'incapacitating_injury_crashes', 'non_incapacitating_injury_crashes',\n",
    "    'possible_injury_crashes', 'property_damage_crashes',\n",
    "    \n",
    "    'epdo'\n",
    "       ]"
   ]
  },
  {
   "cell_type": "code",
   "execution_count": 68,
   "metadata": {},
   "outputs": [],
   "source": [
    "rds_crash_rate_highs = rds_crash_rate_highs[rds_final_cols]"
   ]
  },
  {
   "cell_type": "code",
   "execution_count": 69,
   "metadata": {},
   "outputs": [],
   "source": [
    "# rds_crash_rate_highs.to_csv('highs/crash_rates/rds_crash_rate_highs.csv', index=False)"
   ]
  },
  {
   "cell_type": "markdown",
   "metadata": {},
   "source": [
    "ints"
   ]
  },
  {
   "cell_type": "code",
   "execution_count": 71,
   "metadata": {},
   "outputs": [],
   "source": [
    "crash_rate_ints = pd.read_csv('analysis/intersection_analysis/outputs/crash_rate/all_reasons/all_severity_levels/csv/intersections_total_edpo.csv')\n",
    "ints_crash_rate_highs = crash_rate_ints[crash_rate_ints['epdo_group'] == 'High'][intersections_cols].head(20)"
   ]
  },
  {
   "cell_type": "code",
   "execution_count": 72,
   "metadata": {},
   "outputs": [],
   "source": [
    "# ints_crash_rate_highs.to_csv('highs/crash_rates/ints_crash_rate_highs.csv', index=False)"
   ]
  },
  {
   "cell_type": "markdown",
   "metadata": {},
   "source": [
    "----------------------"
   ]
  },
  {
   "cell_type": "markdown",
   "metadata": {},
   "source": [
    "total number of crashes"
   ]
  },
  {
   "cell_type": "markdown",
   "metadata": {},
   "source": [
    "rds"
   ]
  },
  {
   "cell_type": "code",
   "execution_count": 86,
   "metadata": {},
   "outputs": [],
   "source": [
    "tnc_rds = pd.read_csv('analysis/roadway_analysis/outputs/total_crashes_count/all_reasons/csv/roadways_total_crashes.csv')\n",
    "tnc_rds = tnc_rds[tnc_rds['group'] == 'High'].head(20)\n",
    "tnc_rds = tnc_rds[['roadway_index', 'total_crashes']]"
   ]
  },
  {
   "cell_type": "code",
   "execution_count": 87,
   "metadata": {},
   "outputs": [],
   "source": [
    "tnc_rds_ids = tnc_rds['roadway_index'].unique().tolist()\n",
    "tnc_from_roads = roads[roads.index.isin(tnc_rds_ids)][roads_from_roads_cols]\n",
    "tnc_from_roads['county'] = tnc_from_roads['county'].apply(lambda x: county_list[str(x)])\n",
    "\n",
    "tnc_rds_highs = pd.merge(tnc_rds, tnc_from_roads,\n",
    "                            left_on='roadway_index',\n",
    "                            right_index=True,\n",
    "                            how='inner')\n",
    "\n",
    "tnc_rds_highs = tnc_rds_highs[['route_id', 'segment_id', 'county', 'total_crashes']]"
   ]
  },
  {
   "cell_type": "code",
   "execution_count": 89,
   "metadata": {},
   "outputs": [],
   "source": [
    "# tnc_rds_highs.to_csv('highs/total_number_of_crashes/tnc_rds_highs.csv', index=False)"
   ]
  },
  {
   "cell_type": "markdown",
   "metadata": {},
   "source": [
    "ints"
   ]
  },
  {
   "cell_type": "code",
   "execution_count": 153,
   "metadata": {},
   "outputs": [],
   "source": [
    "tnc_ints = pd.read_csv('analysis/intersection_analysis/outputs/total_crashes_count/all_reasons/csv/intersections_total_crashes.csv')\n",
    "tnc_ints_highs = tnc_ints[['intersection_id', 'total_crashes']].head(20)"
   ]
  },
  {
   "cell_type": "code",
   "execution_count": 154,
   "metadata": {},
   "outputs": [],
   "source": [
    "# tnc_ints_highs.to_csv('highs/total_number_of_crashes/tnc_ints_highs.csv', index=False)"
   ]
  },
  {
   "cell_type": "markdown",
   "metadata": {},
   "source": [
    "occurence"
   ]
  },
  {
   "cell_type": "markdown",
   "metadata": {},
   "source": [
    "rds"
   ]
  },
  {
   "cell_type": "code",
   "execution_count": 157,
   "metadata": {},
   "outputs": [],
   "source": [
    "occ_rds = pd.read_csv('analysis/roadway_analysis/outputs/high_yearly_roadway_occurrences/csv/high_yearly_roadway_occurrences.csv')\n",
    "occ_rds = occ_rds[['route_id', 'segment_id', 'county', 'length_mi', 'aadt']].rename(columns={'length_mi': 'mileage'})\n",
    "occ_rds['county'] = occ_rds['county'].apply(lambda x: county_list[str(x)])"
   ]
  },
  {
   "cell_type": "code",
   "execution_count": 159,
   "metadata": {},
   "outputs": [],
   "source": [
    "# occ_rds.to_csv('highs/occurence/occ_rds.csv', index=False)"
   ]
  },
  {
   "cell_type": "markdown",
   "metadata": {},
   "source": [
    "ints"
   ]
  },
  {
   "cell_type": "code",
   "execution_count": 118,
   "metadata": {},
   "outputs": [],
   "source": [
    "occ_ints = pd.read_csv('analysis/intersection_analysis/outputs/high_yearly_intersection_occurrences/csv/high_yearly_intersection_occurrences.csv')\n",
    "occ_ints_ids = occ_ints['intersection_id'].unique().tolist()\n",
    "occ_ints = intersections[intersections['intersection_id'].isin(occ_ints_ids)]"
   ]
  },
  {
   "cell_type": "code",
   "execution_count": 119,
   "metadata": {},
   "outputs": [],
   "source": [
    "# occ_ints.to_csv('highs/occurence/occ_ints.csv', index=False)"
   ]
  },
  {
   "cell_type": "markdown",
   "metadata": {},
   "source": [
    "hin"
   ]
  },
  {
   "cell_type": "markdown",
   "metadata": {},
   "source": [
    "rds"
   ]
  },
  {
   "cell_type": "code",
   "execution_count": 139,
   "metadata": {},
   "outputs": [],
   "source": [
    "hin_rds = pd.read_csv('analysis/roadway_analysis/outputs/crash_rate/all_reasons/HIN/csv/roadways_total_edpo.csv')\n",
    "hin_rds = hin_rds[(hin_rds['mileage'] >= 0.3) & (hin_rds['epdo_group'] == 'High')].head(20)"
   ]
  },
  {
   "cell_type": "code",
   "execution_count": 140,
   "metadata": {},
   "outputs": [],
   "source": [
    "hin_rds = hin_rds[[\n",
    "    'roadway_index',\n",
    "    'mileage', 'aadt',\n",
    "    'fatal_crashes',\n",
    "    'incapacitating_injury_crashes', 'non_incapacitating_injury_crashes',\n",
    "    'possible_injury_crashes',\n",
    "    'epdo'\n",
    "    ]]\n",
    "\n",
    "hin_rds_ids = hin_rds['roadway_index'].unique().tolist()\n",
    "hin_from_roads = roads[roads.index.isin(hin_rds_ids)][roads_from_roads_cols]\n",
    "hin_from_roads['county'] = hin_from_roads['county'].apply(lambda x: county_list[str(x)])\n",
    "\n",
    "hin_from_roads_highs = pd.merge(hin_rds, hin_from_roads,\n",
    "                            left_on='roadway_index',\n",
    "                            right_index=True,\n",
    "                            how='inner')"
   ]
  },
  {
   "cell_type": "code",
   "execution_count": 141,
   "metadata": {},
   "outputs": [],
   "source": [
    "hin_from_roads_highs = hin_from_roads_highs[[\n",
    "    'route_id', 'segment_id', 'county', 'mileage', 'aadt',\n",
    "    'fatal_crashes',\n",
    "    'incapacitating_injury_crashes', 'non_incapacitating_injury_crashes',\n",
    "    'possible_injury_crashes',\n",
    "    'epdo'\n",
    "       ]]"
   ]
  },
  {
   "cell_type": "code",
   "execution_count": 142,
   "metadata": {},
   "outputs": [],
   "source": [
    "# hin_from_roads_highs.to_csv('highs/hin/hin_from_roads_highs.csv', index=False)"
   ]
  },
  {
   "cell_type": "markdown",
   "metadata": {},
   "source": [
    "ints"
   ]
  },
  {
   "cell_type": "code",
   "execution_count": 151,
   "metadata": {},
   "outputs": [],
   "source": [
    "hin_ints = pd.read_csv('analysis/intersection_analysis/outputs/crash_rate/all_reasons/HIN/csv/intersections_total_edpo.csv')\n",
    "hin_ints_highs = hin_ints[['intersection_id',\n",
    "                    'fatal_crashes',\n",
    "                    'incapacitating_injury_crashes', 'non_incapacitating_injury_crashes',\n",
    "                    'possible_injury_crashes', 'epdo']].head(20)"
   ]
  },
  {
   "cell_type": "code",
   "execution_count": 152,
   "metadata": {},
   "outputs": [],
   "source": [
    "# hin_ints_highs.to_csv('highs/hin/hin_ints_highs.csv', index=False)"
   ]
  },
  {
   "cell_type": "code",
   "execution_count": null,
   "metadata": {},
   "outputs": [],
   "source": []
  }
 ],
 "metadata": {
  "kernelspec": {
   "display_name": "Python 3",
   "language": "python",
   "name": "python3"
  },
  "language_info": {
   "codemirror_mode": {
    "name": "ipython",
    "version": 3
   },
   "file_extension": ".py",
   "mimetype": "text/x-python",
   "name": "python",
   "nbconvert_exporter": "python",
   "pygments_lexer": "ipython3",
   "version": "3.12.4"
  }
 },
 "nbformat": 4,
 "nbformat_minor": 2
}
